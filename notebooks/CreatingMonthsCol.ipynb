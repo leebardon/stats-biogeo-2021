{
 "metadata": {
  "language_info": {
   "codemirror_mode": {
    "name": "ipython",
    "version": 3
   },
   "file_extension": ".py",
   "mimetype": "text/x-python",
   "name": "python",
   "nbconvert_exporter": "python",
   "pygments_lexer": "ipython3",
   "version": "3.9.2"
  },
  "orig_nbformat": 2,
  "kernelspec": {
   "name": "python392jvsc74a57bd0a2007733a1c1ac88528c605afe8295f51d274292b208877e2dd678f2fa56dec5",
   "display_name": "Python 3.9.2 64-bit ('stats_biogeo_2021': conda)"
  }
 },
 "nbformat": 4,
 "nbformat_minor": 2,
 "cells": [
  {
   "cell_type": "code",
   "execution_count": 3,
   "metadata": {},
   "outputs": [],
   "source": [
    "import pandas as pd \n",
    "import numpy as np \n",
    "import xarray as xr"
   ]
  },
  {
   "cell_type": "code",
   "execution_count": 4,
   "metadata": {},
   "outputs": [],
   "source": [
    "def decode_single_column(column):\n",
    "    decoded_rows = []\n",
    "    for row in column:\n",
    "        row = row.decode(\"utf-8\")\n",
    "        row = float(row) if row != \"\" else np.nan\n",
    "        decoded_rows.append(row)\n",
    "    return decoded_rows\n",
    "\n",
    "\n",
    "def decode_all_columns(ocean_data):\n",
    "    columns_to_decode = [\n",
    "        \"Phosphate\",\n",
    "        \"Nitrite_Nitrate\",\n",
    "        \"Temperature\",\n",
    "        \"Prochlorococcus\",\n",
    "        \"Pico_eukaryotes\",\n",
    "    ]\n",
    "    for i in columns_to_decode:\n",
    "        ocean_data[i] = decode_single_column(ocean_data[i])\n",
    "    return ocean_data"
   ]
  },
  {
   "cell_type": "code",
   "execution_count": 7,
   "metadata": {},
   "outputs": [],
   "source": [
    "\n",
    "def drop_erroneous(ocean_measurements):\n",
    "    ocean_measurements = ocean_measurements.query(\"Year <= 2.008e+03\")\n",
    "    ocean_measurements = ocean_measurements.query(\"Day <= 9.96e+30\")\n",
    "    return ocean_measurements"
   ]
  },
  {
   "cell_type": "code",
   "execution_count": 84,
   "metadata": {},
   "outputs": [],
   "source": [
    "def years():\n",
    "    return [i for i in np.arange(1987.0, 2009.0, 1)]\n",
    "\n",
    "\n",
    "def months():\n",
    "    return pd.Series([1, 2, 3, 4, 5, 6, 7, 8, 9, 10, 11, 12])\n"
   ]
  },
  {
   "cell_type": "code",
   "execution_count": 81,
   "metadata": {},
   "outputs": [],
   "source": [
    "data = xr.open_dataset(\"/Users/leebardon/Dropbox/Development/stats_biogeo_2021/data/raw/ocean_observations.netcdf\")"
   ]
  },
  {
   "cell_type": "code",
   "execution_count": 82,
   "metadata": {},
   "outputs": [],
   "source": [
    "data = data.to_dataframe()\n",
    "data = decode_all_columns(data)\n",
    "ocean_data = drop_erroneous(data)"
   ]
  },
  {
   "cell_type": "code",
   "execution_count": 70,
   "metadata": {},
   "outputs": [],
   "source": [
    "day = ocean_data[\"Day\"]\n",
    "year = 2005\n",
    "ocean_data[\"Month\"] = 0"
   ]
  },
  {
   "cell_type": "code",
   "execution_count": 71,
   "metadata": {},
   "outputs": [],
   "source": [
    "_year = ocean_data[\"Year\"] == year\n",
    "_jan = ocean_data[\"Day\"].between(1.0, 31.0) \n",
    "mask  = _year & _jan\n",
    "\n"
   ]
  },
  {
   "cell_type": "code",
   "execution_count": 95,
   "metadata": {},
   "outputs": [],
   "source": [
    "def get_month_masks():\n",
    "    masks = [\n",
    "        ocean_data[\"Day\"].between(1.0, 32.0, inclusive=True),\n",
    "        ocean_data[\"Day\"].between(32.0, 60.0, inclusive=True),\n",
    "        ocean_data[\"Day\"].between(61.0, 91.0, inclusive=True),\n",
    "        ocean_data[\"Day\"].between(92.0, 121.0, inclusive=True),\n",
    "        ocean_data[\"Day\"].between(122.0, 152.0, inclusive=True),\n",
    "        ocean_data[\"Day\"].between(153.0, 182.0, inclusive=True),\n",
    "        ocean_data[\"Day\"].between(183.0, 213.0, inclusive=True),\n",
    "        ocean_data[\"Day\"].between(214.0, 244.0, inclusive=True),\n",
    "        ocean_data[\"Day\"].between(245.0, 274.0, inclusive=True),\n",
    "        ocean_data[\"Day\"].between(275.0, 305.0, inclusive=True), \n",
    "        ocean_data[\"Day\"].between(306.0, 335.0, inclusive=True),\n",
    "        ocean_data[\"Day\"].between(336.0, 366.0, inclusive=True),\n",
    "    ]\n",
    "    return masks\n",
    "\n",
    "def get_season_masks():\n",
    "    masks = [\n",
    "        ocean_data[\"Day\"].between(336.0, 366.0, inclusive=True) | ocean_data[\"Day\"].between(1.0, 60.0, inclusive=True),\n",
    "        ocean_data[\"Day\"].between(61.0, 152.0, inclusive=True),\n",
    "        ocean_data[\"Day\"].between(153.0, 244.0, inclusive=True),\n",
    "        ocean_data[\"Day\"].between(245.0, 335.0, inclusive=True),\n",
    "    ]\n",
    "    return masks"
   ]
  },
  {
   "cell_type": "code",
   "execution_count": 96,
   "metadata": {},
   "outputs": [],
   "source": [
    "def assign_months(year, months_list, ocean_data):\n",
    "    _year = ocean_data[\"Year\"] == year\n",
    "    month_masks = get_month_masks()\n",
    "    for i in range(0, len(months_list)):\n",
    "        _month = month_masks[i]\n",
    "        _mask = _year & _month\n",
    "        ocean_data[\"Month\"] = ocean_data[\"Month\"].where(~_mask, other=months_list[i])"
   ]
  },
  {
   "cell_type": "code",
   "execution_count": 104,
   "metadata": {},
   "outputs": [],
   "source": [
    "def assign_seasons(year, seasons_list, ocean_data):\n",
    "    _year = ocean_data[\"Year\"] == year\n",
    "    season_masks = get_season_masks()\n",
    "    for i in range(0, len(seasons_list)):\n",
    "        _season = season_masks[i]\n",
    "        _mask = _year & _season\n",
    "        ocean_data[\"Season\"] = ocean_data[\"Season\"].where(~_mask, other=seasons_list[i])"
   ]
  },
  {
   "cell_type": "code",
   "execution_count": 102,
   "metadata": {},
   "outputs": [],
   "source": [
    "def create_seasons_column(ocean_data):\n",
    "    ocean_data[\"Season\"] = None\n",
    "    years_list = years() \n",
    "    seasons_list = [\"winter\", \"spring\", \"summer\", \"autumn\"]\n",
    "    for year in years_list:\n",
    "        assign_seasons(year, seasons_list, ocean_data)\n",
    "    return ocean_data\n"
   ]
  },
  {
   "cell_type": "code",
   "execution_count": 93,
   "metadata": {},
   "outputs": [],
   "source": [
    "def create_months_column(ocean_data):\n",
    "    ocean_data[\"Month\"] = 0\n",
    "    years_list = years() \n",
    "    months_list = months()\n",
    "    for year in years_list:\n",
    "        assign_months(year, months_list, ocean_data)\n",
    "        months_list = months_list + 12\n",
    "    return ocean_data"
   ]
  },
  {
   "cell_type": "code",
   "execution_count": 99,
   "metadata": {},
   "outputs": [
    {
     "output_type": "execute_result",
     "data": {
      "text/plain": [
       "count    58851.000000\n",
       "mean       149.353911\n",
       "std         54.804807\n",
       "min          9.000000\n",
       "25%        105.000000\n",
       "50%        154.000000\n",
       "75%        196.000000\n",
       "max        263.000000\n",
       "Name: Month, dtype: float64"
      ]
     },
     "metadata": {},
     "execution_count": 99
    }
   ],
   "source": [
    "create_months_column(ocean_data)\n",
    "ocean_data[\"Month\"].describe()"
   ]
  },
  {
   "cell_type": "code",
   "execution_count": 105,
   "metadata": {},
   "outputs": [
    {
     "output_type": "execute_result",
     "data": {
      "text/plain": [
       "             Year    Day   Latitude   Longitude  Nitrite_Nitrate  Phosphate  \\\n",
       "unlimited                                                                     \n",
       "0          1997.0    8.0  16.370000  119.950000              NaN        NaN   \n",
       "1          1997.0    9.0  16.348000  119.930000              NaN        NaN   \n",
       "2          1997.0   14.0  16.460000  119.920000              NaN        NaN   \n",
       "3          1997.0   15.0  16.380000  119.910000              NaN        NaN   \n",
       "4          1997.0   24.0  16.348000  119.930000              NaN        NaN   \n",
       "...           ...    ...        ...         ...              ...        ...   \n",
       "59549      1994.0  178.0  43.830556  297.180556             8.58       0.87   \n",
       "59550      1994.0  178.0  43.830556  297.180556            20.09       1.24   \n",
       "59551      1994.0  178.0  43.830556  297.180556              NaN        NaN   \n",
       "59552      1994.0  178.0  43.830556  297.180556            27.32       1.25   \n",
       "59553      1994.0  178.0  43.830556  297.180556            38.82       1.48   \n",
       "\n",
       "           Temperature  Depth  Prochlorococcus  Synechococcus  \\\n",
       "unlimited                                                       \n",
       "0                  NaN    0.5              NaN   3.977000e+04   \n",
       "1                  NaN    0.5              NaN   1.500000e+04   \n",
       "2                  NaN    0.5              NaN   8.800000e+02   \n",
       "3                  NaN    0.5              NaN   9.500000e+02   \n",
       "4                  NaN    0.5              NaN   2.730000e+03   \n",
       "...                ...    ...              ...            ...   \n",
       "59549             3.54   42.0              NaN   9.969210e+36   \n",
       "59550             6.92   63.0              NaN   9.969210e+36   \n",
       "59551             8.38   75.0              NaN   9.969210e+36   \n",
       "59552             9.80  100.0              NaN   9.969210e+36   \n",
       "59553            10.42  200.0              NaN   9.969210e+36   \n",
       "\n",
       "           Pico_eukaryotes  Month  Season  \n",
       "unlimited                                  \n",
       "0                      NaN    121  winter  \n",
       "1                      NaN    121  winter  \n",
       "2                      NaN    121  winter  \n",
       "3                      NaN    121  winter  \n",
       "4                      NaN    121  winter  \n",
       "...                    ...    ...     ...  \n",
       "59549               4040.0     90  summer  \n",
       "59550                274.9     90  summer  \n",
       "59551                  NaN     90  summer  \n",
       "59552             113900.0     90  summer  \n",
       "59553                  NaN     90  summer  \n",
       "\n",
       "[58851 rows x 13 columns]"
      ],
      "text/html": "<div>\n<style scoped>\n    .dataframe tbody tr th:only-of-type {\n        vertical-align: middle;\n    }\n\n    .dataframe tbody tr th {\n        vertical-align: top;\n    }\n\n    .dataframe thead th {\n        text-align: right;\n    }\n</style>\n<table border=\"1\" class=\"dataframe\">\n  <thead>\n    <tr style=\"text-align: right;\">\n      <th></th>\n      <th>Year</th>\n      <th>Day</th>\n      <th>Latitude</th>\n      <th>Longitude</th>\n      <th>Nitrite_Nitrate</th>\n      <th>Phosphate</th>\n      <th>Temperature</th>\n      <th>Depth</th>\n      <th>Prochlorococcus</th>\n      <th>Synechococcus</th>\n      <th>Pico_eukaryotes</th>\n      <th>Month</th>\n      <th>Season</th>\n    </tr>\n    <tr>\n      <th>unlimited</th>\n      <th></th>\n      <th></th>\n      <th></th>\n      <th></th>\n      <th></th>\n      <th></th>\n      <th></th>\n      <th></th>\n      <th></th>\n      <th></th>\n      <th></th>\n      <th></th>\n      <th></th>\n    </tr>\n  </thead>\n  <tbody>\n    <tr>\n      <th>0</th>\n      <td>1997.0</td>\n      <td>8.0</td>\n      <td>16.370000</td>\n      <td>119.950000</td>\n      <td>NaN</td>\n      <td>NaN</td>\n      <td>NaN</td>\n      <td>0.5</td>\n      <td>NaN</td>\n      <td>3.977000e+04</td>\n      <td>NaN</td>\n      <td>121</td>\n      <td>winter</td>\n    </tr>\n    <tr>\n      <th>1</th>\n      <td>1997.0</td>\n      <td>9.0</td>\n      <td>16.348000</td>\n      <td>119.930000</td>\n      <td>NaN</td>\n      <td>NaN</td>\n      <td>NaN</td>\n      <td>0.5</td>\n      <td>NaN</td>\n      <td>1.500000e+04</td>\n      <td>NaN</td>\n      <td>121</td>\n      <td>winter</td>\n    </tr>\n    <tr>\n      <th>2</th>\n      <td>1997.0</td>\n      <td>14.0</td>\n      <td>16.460000</td>\n      <td>119.920000</td>\n      <td>NaN</td>\n      <td>NaN</td>\n      <td>NaN</td>\n      <td>0.5</td>\n      <td>NaN</td>\n      <td>8.800000e+02</td>\n      <td>NaN</td>\n      <td>121</td>\n      <td>winter</td>\n    </tr>\n    <tr>\n      <th>3</th>\n      <td>1997.0</td>\n      <td>15.0</td>\n      <td>16.380000</td>\n      <td>119.910000</td>\n      <td>NaN</td>\n      <td>NaN</td>\n      <td>NaN</td>\n      <td>0.5</td>\n      <td>NaN</td>\n      <td>9.500000e+02</td>\n      <td>NaN</td>\n      <td>121</td>\n      <td>winter</td>\n    </tr>\n    <tr>\n      <th>4</th>\n      <td>1997.0</td>\n      <td>24.0</td>\n      <td>16.348000</td>\n      <td>119.930000</td>\n      <td>NaN</td>\n      <td>NaN</td>\n      <td>NaN</td>\n      <td>0.5</td>\n      <td>NaN</td>\n      <td>2.730000e+03</td>\n      <td>NaN</td>\n      <td>121</td>\n      <td>winter</td>\n    </tr>\n    <tr>\n      <th>...</th>\n      <td>...</td>\n      <td>...</td>\n      <td>...</td>\n      <td>...</td>\n      <td>...</td>\n      <td>...</td>\n      <td>...</td>\n      <td>...</td>\n      <td>...</td>\n      <td>...</td>\n      <td>...</td>\n      <td>...</td>\n      <td>...</td>\n    </tr>\n    <tr>\n      <th>59549</th>\n      <td>1994.0</td>\n      <td>178.0</td>\n      <td>43.830556</td>\n      <td>297.180556</td>\n      <td>8.58</td>\n      <td>0.87</td>\n      <td>3.54</td>\n      <td>42.0</td>\n      <td>NaN</td>\n      <td>9.969210e+36</td>\n      <td>4040.0</td>\n      <td>90</td>\n      <td>summer</td>\n    </tr>\n    <tr>\n      <th>59550</th>\n      <td>1994.0</td>\n      <td>178.0</td>\n      <td>43.830556</td>\n      <td>297.180556</td>\n      <td>20.09</td>\n      <td>1.24</td>\n      <td>6.92</td>\n      <td>63.0</td>\n      <td>NaN</td>\n      <td>9.969210e+36</td>\n      <td>274.9</td>\n      <td>90</td>\n      <td>summer</td>\n    </tr>\n    <tr>\n      <th>59551</th>\n      <td>1994.0</td>\n      <td>178.0</td>\n      <td>43.830556</td>\n      <td>297.180556</td>\n      <td>NaN</td>\n      <td>NaN</td>\n      <td>8.38</td>\n      <td>75.0</td>\n      <td>NaN</td>\n      <td>9.969210e+36</td>\n      <td>NaN</td>\n      <td>90</td>\n      <td>summer</td>\n    </tr>\n    <tr>\n      <th>59552</th>\n      <td>1994.0</td>\n      <td>178.0</td>\n      <td>43.830556</td>\n      <td>297.180556</td>\n      <td>27.32</td>\n      <td>1.25</td>\n      <td>9.80</td>\n      <td>100.0</td>\n      <td>NaN</td>\n      <td>9.969210e+36</td>\n      <td>113900.0</td>\n      <td>90</td>\n      <td>summer</td>\n    </tr>\n    <tr>\n      <th>59553</th>\n      <td>1994.0</td>\n      <td>178.0</td>\n      <td>43.830556</td>\n      <td>297.180556</td>\n      <td>38.82</td>\n      <td>1.48</td>\n      <td>10.42</td>\n      <td>200.0</td>\n      <td>NaN</td>\n      <td>9.969210e+36</td>\n      <td>NaN</td>\n      <td>90</td>\n      <td>summer</td>\n    </tr>\n  </tbody>\n</table>\n<p>58851 rows × 13 columns</p>\n</div>"
     },
     "metadata": {},
     "execution_count": 105
    }
   ],
   "source": [
    "create_seasons_column(ocean_data)"
   ]
  },
  {
   "cell_type": "code",
   "execution_count": 4,
   "metadata": {},
   "outputs": [],
   "source": [
    "ecosys_interim = pd.read_pickle(\"/Users/leebardon/Dropbox/Development/stats_biogeo_2021/data/interim/darwin_interim_data/present/ecosys_interim_p.pkl\")"
   ]
  },
  {
   "cell_type": "code",
   "execution_count": 133,
   "metadata": {},
   "outputs": [],
   "source": [
    "def darwin_season_masks(darwin):\n",
    "    masks = [\n",
    "        darwin[\"Month\"][3::12] | darwin[\"Month\"][4::12] | darwin[\"Month\"][5::12],\n",
    "        darwin[\"Month\"][6::12] | darwin[\"Month\"][7::12] | darwin[\"Month\"][8::12],\n",
    "        darwin[\"Month\"][9::12] | darwin[\"Month\"][10::12] | darwin[\"Month\"][11::12],\n",
    "        darwin[\"Month\"][12::12] | darwin[\"Month\"][13::12] | darwin[\"Month\"][14::12],\n",
    "    ]\n",
    "    return masks"
   ]
  },
  {
   "cell_type": "code",
   "execution_count": 135,
   "metadata": {},
   "outputs": [],
   "source": [
    "def darwin_seasons_col(darwin_data):\n",
    "    darwin_data[\"Season\"] = None\n",
    "    seasons_list = [\"spring\", \"summer\", \"autumn\", \"winter\"]\n",
    "    return darwin_assign_seasons(seasons_list, darwin_data)\n",
    "\n",
    "\n",
    "def darwin_assign_seasons(seasons_list, darwin_data):\n",
    "    season_masks = darwin_season_masks(darwin_data)\n",
    "    for i in range(0, len(seasons_list)):\n",
    "        _mask = season_masks[i]\n",
    "        darwin_data[\"Season\"] = darwin_data[\"Season\"].where(\n",
    "            ~_mask, other=seasons_list[i]\n",
    "        )\n",
    "    return darwin_data"
   ]
  },
  {
   "cell_type": "code",
   "execution_count": 5,
   "metadata": {},
   "outputs": [],
   "source": [
    "spring = ecosys_interim[\"Month\"][3::12] | ecosys_interim[\"Month\"][4::12] | ecosys_interim[\"Month\"][5::12]"
   ]
  },
  {
   "cell_type": "code",
   "execution_count": 6,
   "metadata": {},
   "outputs": [],
   "source": [
    "ecosys_interim[\"Season\"] = None\n",
    "ecosys_interim[\"Season\"] = ecosys_interim[\"Season\"].where(\n",
    "            ~spring, other=\"spring\"\n",
    "        )"
   ]
  },
  {
   "cell_type": "code",
   "execution_count": 42,
   "metadata": {},
   "outputs": [],
   "source": [
    "import numpy\n",
    "x = range(24)\n",
    "l = numpy.array_split(numpy.array(x),5)"
   ]
  },
  {
   "cell_type": "code",
   "execution_count": 43,
   "metadata": {},
   "outputs": [
    {
     "output_type": "execute_result",
     "data": {
      "text/plain": [
       "[array([0, 1, 2, 3, 4]),\n",
       " array([5, 6, 7, 8, 9]),\n",
       " array([10, 11, 12, 13, 14]),\n",
       " array([15, 16, 17, 18, 19]),\n",
       " array([20, 21, 22, 23])]"
      ]
     },
     "metadata": {},
     "execution_count": 43
    }
   ],
   "source": [
    "l"
   ]
  },
  {
   "cell_type": "code",
   "execution_count": 30,
   "metadata": {},
   "outputs": [],
   "source": [
    "li = np.arange(0, 120)\n",
    "x, y, z = li[1::12], li[2::12], li[3::12]\n",
    "s = li[[1:3]:12] | li[2::12] | li[3::12]"
   ]
  },
  {
   "cell_type": "code",
   "execution_count": 31,
   "metadata": {},
   "outputs": [
    {
     "output_type": "execute_result",
     "data": {
      "text/plain": [
       "array([  3,  15,  27,  39,  51,  63,  75,  87,  99, 111])"
      ]
     },
     "metadata": {},
     "execution_count": 31
    }
   ],
   "source": [
    "s"
   ]
  },
  {
   "cell_type": "code",
   "execution_count": null,
   "metadata": {},
   "outputs": [],
   "source": []
  },
  {
   "cell_type": "code",
   "execution_count": 23,
   "metadata": {},
   "outputs": [
    {
     "output_type": "stream",
     "name": "stdout",
     "text": [
      "[  1  13  25  37  49  61  73  85  97 109] [  2  14  26  38  50  62  74  86  98 110] [  3  15  27  39  51  63  75  87  99 111]\n"
     ]
    }
   ],
   "source": [
    "print(x,y,z)"
   ]
  },
  {
   "cell_type": "code",
   "execution_count": 8,
   "metadata": {},
   "outputs": [
    {
     "output_type": "execute_result",
     "data": {
      "text/plain": [
       "count     1852571\n",
       "unique          1\n",
       "top        spring\n",
       "freq      1852571\n",
       "Name: Season, dtype: object"
      ]
     },
     "metadata": {},
     "execution_count": 8
    }
   ],
   "source": [
    "ecosys_interim[\"Season\"].describe()"
   ]
  },
  {
   "cell_type": "code",
   "execution_count": 117,
   "metadata": {},
   "outputs": [
    {
     "output_type": "execute_result",
     "data": {
      "text/plain": [
       "       diag_levels          iter        TRAC01        TRAC02        TRAC03  \\\n",
       "count    2223085.0  2.223085e+06  2.223085e+06  2.223085e+06  2.223085e+06   \n",
       "mean           1.0  8.555400e+05  1.666570e+03  4.459550e-01  2.356350e-01   \n",
       "std            0.0  1.376971e+04  2.373820e+02  8.679441e-01  2.248783e-01   \n",
       "min            1.0  8.317800e+05 -1.424879e+03  9.836914e-11  4.605408e-10   \n",
       "25%            1.0  8.436600e+05  1.482376e+03  8.862907e-03  7.813289e-02   \n",
       "50%            1.0  8.555400e+05  1.602283e+03  4.857397e-02  2.082712e-01   \n",
       "75%            1.0  8.674200e+05  1.771923e+03  4.422804e-01  3.359250e-01   \n",
       "max            1.0  8.793000e+05  2.201397e+03  2.084249e+01  1.816567e+01   \n",
       "\n",
       "             TRAC04        TRAC05        TRAC06        TRAC07        TRAC08  \\\n",
       "count  2.223085e+06  2.223085e+06  2.223085e+06  2.223085e+06  2.223085e+06   \n",
       "mean   1.724202e+01  7.579823e-01  1.296144e+01  4.902011e-04  5.632965e+00   \n",
       "std    9.017628e+00  7.021748e-01  2.216176e+01  4.130322e-04  5.651853e+00   \n",
       "min    1.053179e-08  5.960977e-05  3.658294e-09  1.619316e-07  3.757966e-07   \n",
       "25%    8.413961e+00  1.384026e-01  3.971213e-03  3.460578e-06  1.311421e+00   \n",
       "50%    1.745069e+01  5.217834e-01  3.782859e-01  5.201417e-04  3.992435e+00   \n",
       "75%    2.484288e+01  1.115567e+00  9.692400e+00  8.960076e-04  8.353237e+00   \n",
       "max    3.306812e+01  2.189375e+00  7.418663e+01  1.052969e-03  5.202850e+01   \n",
       "\n",
       "       ...        TRAC71            PP          Nfix      Denit            pH  \\\n",
       "count  ...  2.223085e+06  2.223085e+06  2.223085e+06  2223085.0  2.223085e+06   \n",
       "mean   ...  9.997496e-04  4.570229e-06  2.823920e-08        0.0  8.070178e+00   \n",
       "std    ...  6.221793e-03  5.346257e-06  6.529651e-08        0.0  5.705402e-02   \n",
       "min    ... -5.960355e-27  0.000000e+00  0.000000e+00        0.0  6.809876e+00   \n",
       "25%    ...  5.912090e-24  4.823750e-07  1.388662e-11        0.0  8.029513e+00   \n",
       "50%    ...  1.180860e-14  2.230180e-06  1.470064e-09        0.0  8.075103e+00   \n",
       "75%    ...  1.457540e-08  7.427670e-06  1.614191e-08        0.0  8.115204e+00   \n",
       "max    ...  2.174307e-01  5.765267e-05  1.001402e-06        0.0  8.334769e+00   \n",
       "\n",
       "               pCO2             X             Y          Z         Month  \n",
       "count  2.223085e+06  2.223085e+06  2.223085e+06  2223085.0  2.223085e+06  \n",
       "mean   2.824468e-04  1.931319e+02 -1.183931e+00        1.0  1.330000e+02  \n",
       "std    2.619033e-05  9.859461e+01  4.785651e+01        0.0  7.649838e+01  \n",
       "min    5.711331e-05  1.250000e+00 -7.800000e+01        1.0  1.000000e+00  \n",
       "25%    2.653396e-04  1.162500e+02 -4.200000e+01        1.0  6.700000e+01  \n",
       "50%    2.804835e-04  1.962500e+02 -8.000000e+00        1.0  1.330000e+02  \n",
       "75%    2.960270e-04  2.737500e+02  3.400000e+01        1.0  1.990000e+02  \n",
       "max    1.291977e-03  3.587500e+02  8.850000e+01        1.0  2.650000e+02  \n",
       "\n",
       "[8 rows x 82 columns]"
      ],
      "text/html": "<div>\n<style scoped>\n    .dataframe tbody tr th:only-of-type {\n        vertical-align: middle;\n    }\n\n    .dataframe tbody tr th {\n        vertical-align: top;\n    }\n\n    .dataframe thead th {\n        text-align: right;\n    }\n</style>\n<table border=\"1\" class=\"dataframe\">\n  <thead>\n    <tr style=\"text-align: right;\">\n      <th></th>\n      <th>diag_levels</th>\n      <th>iter</th>\n      <th>TRAC01</th>\n      <th>TRAC02</th>\n      <th>TRAC03</th>\n      <th>TRAC04</th>\n      <th>TRAC05</th>\n      <th>TRAC06</th>\n      <th>TRAC07</th>\n      <th>TRAC08</th>\n      <th>...</th>\n      <th>TRAC71</th>\n      <th>PP</th>\n      <th>Nfix</th>\n      <th>Denit</th>\n      <th>pH</th>\n      <th>pCO2</th>\n      <th>X</th>\n      <th>Y</th>\n      <th>Z</th>\n      <th>Month</th>\n    </tr>\n  </thead>\n  <tbody>\n    <tr>\n      <th>count</th>\n      <td>2223085.0</td>\n      <td>2.223085e+06</td>\n      <td>2.223085e+06</td>\n      <td>2.223085e+06</td>\n      <td>2.223085e+06</td>\n      <td>2.223085e+06</td>\n      <td>2.223085e+06</td>\n      <td>2.223085e+06</td>\n      <td>2.223085e+06</td>\n      <td>2.223085e+06</td>\n      <td>...</td>\n      <td>2.223085e+06</td>\n      <td>2.223085e+06</td>\n      <td>2.223085e+06</td>\n      <td>2223085.0</td>\n      <td>2.223085e+06</td>\n      <td>2.223085e+06</td>\n      <td>2.223085e+06</td>\n      <td>2.223085e+06</td>\n      <td>2223085.0</td>\n      <td>2.223085e+06</td>\n    </tr>\n    <tr>\n      <th>mean</th>\n      <td>1.0</td>\n      <td>8.555400e+05</td>\n      <td>1.666570e+03</td>\n      <td>4.459550e-01</td>\n      <td>2.356350e-01</td>\n      <td>1.724202e+01</td>\n      <td>7.579823e-01</td>\n      <td>1.296144e+01</td>\n      <td>4.902011e-04</td>\n      <td>5.632965e+00</td>\n      <td>...</td>\n      <td>9.997496e-04</td>\n      <td>4.570229e-06</td>\n      <td>2.823920e-08</td>\n      <td>0.0</td>\n      <td>8.070178e+00</td>\n      <td>2.824468e-04</td>\n      <td>1.931319e+02</td>\n      <td>-1.183931e+00</td>\n      <td>1.0</td>\n      <td>1.330000e+02</td>\n    </tr>\n    <tr>\n      <th>std</th>\n      <td>0.0</td>\n      <td>1.376971e+04</td>\n      <td>2.373820e+02</td>\n      <td>8.679441e-01</td>\n      <td>2.248783e-01</td>\n      <td>9.017628e+00</td>\n      <td>7.021748e-01</td>\n      <td>2.216176e+01</td>\n      <td>4.130322e-04</td>\n      <td>5.651853e+00</td>\n      <td>...</td>\n      <td>6.221793e-03</td>\n      <td>5.346257e-06</td>\n      <td>6.529651e-08</td>\n      <td>0.0</td>\n      <td>5.705402e-02</td>\n      <td>2.619033e-05</td>\n      <td>9.859461e+01</td>\n      <td>4.785651e+01</td>\n      <td>0.0</td>\n      <td>7.649838e+01</td>\n    </tr>\n    <tr>\n      <th>min</th>\n      <td>1.0</td>\n      <td>8.317800e+05</td>\n      <td>-1.424879e+03</td>\n      <td>9.836914e-11</td>\n      <td>4.605408e-10</td>\n      <td>1.053179e-08</td>\n      <td>5.960977e-05</td>\n      <td>3.658294e-09</td>\n      <td>1.619316e-07</td>\n      <td>3.757966e-07</td>\n      <td>...</td>\n      <td>-5.960355e-27</td>\n      <td>0.000000e+00</td>\n      <td>0.000000e+00</td>\n      <td>0.0</td>\n      <td>6.809876e+00</td>\n      <td>5.711331e-05</td>\n      <td>1.250000e+00</td>\n      <td>-7.800000e+01</td>\n      <td>1.0</td>\n      <td>1.000000e+00</td>\n    </tr>\n    <tr>\n      <th>25%</th>\n      <td>1.0</td>\n      <td>8.436600e+05</td>\n      <td>1.482376e+03</td>\n      <td>8.862907e-03</td>\n      <td>7.813289e-02</td>\n      <td>8.413961e+00</td>\n      <td>1.384026e-01</td>\n      <td>3.971213e-03</td>\n      <td>3.460578e-06</td>\n      <td>1.311421e+00</td>\n      <td>...</td>\n      <td>5.912090e-24</td>\n      <td>4.823750e-07</td>\n      <td>1.388662e-11</td>\n      <td>0.0</td>\n      <td>8.029513e+00</td>\n      <td>2.653396e-04</td>\n      <td>1.162500e+02</td>\n      <td>-4.200000e+01</td>\n      <td>1.0</td>\n      <td>6.700000e+01</td>\n    </tr>\n    <tr>\n      <th>50%</th>\n      <td>1.0</td>\n      <td>8.555400e+05</td>\n      <td>1.602283e+03</td>\n      <td>4.857397e-02</td>\n      <td>2.082712e-01</td>\n      <td>1.745069e+01</td>\n      <td>5.217834e-01</td>\n      <td>3.782859e-01</td>\n      <td>5.201417e-04</td>\n      <td>3.992435e+00</td>\n      <td>...</td>\n      <td>1.180860e-14</td>\n      <td>2.230180e-06</td>\n      <td>1.470064e-09</td>\n      <td>0.0</td>\n      <td>8.075103e+00</td>\n      <td>2.804835e-04</td>\n      <td>1.962500e+02</td>\n      <td>-8.000000e+00</td>\n      <td>1.0</td>\n      <td>1.330000e+02</td>\n    </tr>\n    <tr>\n      <th>75%</th>\n      <td>1.0</td>\n      <td>8.674200e+05</td>\n      <td>1.771923e+03</td>\n      <td>4.422804e-01</td>\n      <td>3.359250e-01</td>\n      <td>2.484288e+01</td>\n      <td>1.115567e+00</td>\n      <td>9.692400e+00</td>\n      <td>8.960076e-04</td>\n      <td>8.353237e+00</td>\n      <td>...</td>\n      <td>1.457540e-08</td>\n      <td>7.427670e-06</td>\n      <td>1.614191e-08</td>\n      <td>0.0</td>\n      <td>8.115204e+00</td>\n      <td>2.960270e-04</td>\n      <td>2.737500e+02</td>\n      <td>3.400000e+01</td>\n      <td>1.0</td>\n      <td>1.990000e+02</td>\n    </tr>\n    <tr>\n      <th>max</th>\n      <td>1.0</td>\n      <td>8.793000e+05</td>\n      <td>2.201397e+03</td>\n      <td>2.084249e+01</td>\n      <td>1.816567e+01</td>\n      <td>3.306812e+01</td>\n      <td>2.189375e+00</td>\n      <td>7.418663e+01</td>\n      <td>1.052969e-03</td>\n      <td>5.202850e+01</td>\n      <td>...</td>\n      <td>2.174307e-01</td>\n      <td>5.765267e-05</td>\n      <td>1.001402e-06</td>\n      <td>0.0</td>\n      <td>8.334769e+00</td>\n      <td>1.291977e-03</td>\n      <td>3.587500e+02</td>\n      <td>8.850000e+01</td>\n      <td>1.0</td>\n      <td>2.650000e+02</td>\n    </tr>\n  </tbody>\n</table>\n<p>8 rows × 82 columns</p>\n</div>"
     },
     "metadata": {},
     "execution_count": 117
    }
   ],
   "source": [
    "ecosys_interim.describe()"
   ]
  },
  {
   "cell_type": "code",
   "execution_count": 136,
   "metadata": {},
   "outputs": [
    {
     "output_type": "execute_result",
     "data": {
      "text/plain": [
       "         diag_levels    iter       TRAC01        TRAC02    TRAC03     TRAC04  \\\n",
       "10               1.0  833220  2149.222412  1.648718e-06  0.000035  32.415684   \n",
       "11               1.0  833220  2147.434082  8.242774e-06  0.000177  32.385727   \n",
       "12               1.0  833220  2150.374268  7.787668e-05  0.001622  32.361332   \n",
       "13               1.0  833220  2165.442871  5.970550e-04  0.011919  32.208023   \n",
       "14               1.0  833220  2172.339355  1.959288e-03  0.035316  31.784969   \n",
       "...              ...     ...          ...           ...       ...        ...   \n",
       "3434395          1.0  832320  1760.266113  7.981590e-04  0.013508  26.005625   \n",
       "3434396          1.0  832320  1767.850952  2.707174e-04  0.005684  25.506079   \n",
       "3434397          1.0  832320  1775.604248  8.718633e-05  0.001873  24.715918   \n",
       "3434398          1.0  832320  1775.774902  7.570384e-06  0.000161  23.865545   \n",
       "3434399          1.0  832320  1762.854736  5.704954e-07  0.000012  22.729925   \n",
       "\n",
       "           TRAC05     TRAC06    TRAC07    TRAC08  ...            PP  \\\n",
       "10       2.137044  67.373428  0.000937  0.002703  ...  9.165449e-14   \n",
       "11       2.135199  67.092377  0.000941  0.013594  ...  3.981707e-13   \n",
       "12       2.133392  67.212936  0.000938  0.127367  ...  1.154114e-11   \n",
       "13       2.123554  67.915428  0.000915  0.772793  ...  3.899572e-09   \n",
       "14       2.098763  68.678925  0.000880  2.110428  ...  1.733191e-08   \n",
       "...           ...        ...       ...       ...  ...           ...   \n",
       "3434395  0.843346   3.074813  0.001048  0.811644  ...  2.345686e-10   \n",
       "3434396  0.869203   3.572733  0.001052  0.399762  ...  2.959652e-11   \n",
       "3434397  0.906506   4.381703  0.001052  0.134918  ...  4.039041e-12   \n",
       "3434398  0.944657   5.142447  0.001052  0.012236  ...  0.000000e+00   \n",
       "3434399  0.992490   5.878727  0.001052  0.000944  ...  0.000000e+00   \n",
       "\n",
       "                 Nfix  Denit        pH      pCO2       X     Y  Z  Month  \\\n",
       "10       9.778816e-17    0.0  8.124066  0.000300    1.25 -70.0  1      9   \n",
       "11       3.036517e-16    0.0  8.124928  0.000299    1.25 -68.0  1      9   \n",
       "12       1.868019e-14    0.0  8.125634  0.000299    1.25 -66.0  1      9   \n",
       "13       7.348246e-12    0.0  8.131565  0.000296    1.25 -64.0  1      9   \n",
       "14       3.270573e-11    0.0  8.138751  0.000292    1.25 -62.0  1      9   \n",
       "...               ...    ...       ...       ...     ...   ... ..    ...   \n",
       "3434395  7.043241e-12    0.0  8.116233  0.000251  358.75  80.0  1      4   \n",
       "3434396  1.112098e-12    0.0  8.114406  0.000253  358.75  82.0  1      4   \n",
       "3434397  1.513587e-13    0.0  8.113550  0.000255  358.75  84.0  1      4   \n",
       "3434398  0.000000e+00    0.0  8.117414  0.000253  358.75  86.0  1      4   \n",
       "3434399  0.000000e+00    0.0  8.119388  0.000251  358.75  88.5  1      4   \n",
       "\n",
       "         Season  \n",
       "10       winter  \n",
       "11       winter  \n",
       "12       winter  \n",
       "13       winter  \n",
       "14       winter  \n",
       "...         ...  \n",
       "3434395  winter  \n",
       "3434396  winter  \n",
       "3434397  winter  \n",
       "3434398  winter  \n",
       "3434399  winter  \n",
       "\n",
       "[2223085 rows x 83 columns]"
      ],
      "text/html": "<div>\n<style scoped>\n    .dataframe tbody tr th:only-of-type {\n        vertical-align: middle;\n    }\n\n    .dataframe tbody tr th {\n        vertical-align: top;\n    }\n\n    .dataframe thead th {\n        text-align: right;\n    }\n</style>\n<table border=\"1\" class=\"dataframe\">\n  <thead>\n    <tr style=\"text-align: right;\">\n      <th></th>\n      <th>diag_levels</th>\n      <th>iter</th>\n      <th>TRAC01</th>\n      <th>TRAC02</th>\n      <th>TRAC03</th>\n      <th>TRAC04</th>\n      <th>TRAC05</th>\n      <th>TRAC06</th>\n      <th>TRAC07</th>\n      <th>TRAC08</th>\n      <th>...</th>\n      <th>PP</th>\n      <th>Nfix</th>\n      <th>Denit</th>\n      <th>pH</th>\n      <th>pCO2</th>\n      <th>X</th>\n      <th>Y</th>\n      <th>Z</th>\n      <th>Month</th>\n      <th>Season</th>\n    </tr>\n  </thead>\n  <tbody>\n    <tr>\n      <th>10</th>\n      <td>1.0</td>\n      <td>833220</td>\n      <td>2149.222412</td>\n      <td>1.648718e-06</td>\n      <td>0.000035</td>\n      <td>32.415684</td>\n      <td>2.137044</td>\n      <td>67.373428</td>\n      <td>0.000937</td>\n      <td>0.002703</td>\n      <td>...</td>\n      <td>9.165449e-14</td>\n      <td>9.778816e-17</td>\n      <td>0.0</td>\n      <td>8.124066</td>\n      <td>0.000300</td>\n      <td>1.25</td>\n      <td>-70.0</td>\n      <td>1</td>\n      <td>9</td>\n      <td>winter</td>\n    </tr>\n    <tr>\n      <th>11</th>\n      <td>1.0</td>\n      <td>833220</td>\n      <td>2147.434082</td>\n      <td>8.242774e-06</td>\n      <td>0.000177</td>\n      <td>32.385727</td>\n      <td>2.135199</td>\n      <td>67.092377</td>\n      <td>0.000941</td>\n      <td>0.013594</td>\n      <td>...</td>\n      <td>3.981707e-13</td>\n      <td>3.036517e-16</td>\n      <td>0.0</td>\n      <td>8.124928</td>\n      <td>0.000299</td>\n      <td>1.25</td>\n      <td>-68.0</td>\n      <td>1</td>\n      <td>9</td>\n      <td>winter</td>\n    </tr>\n    <tr>\n      <th>12</th>\n      <td>1.0</td>\n      <td>833220</td>\n      <td>2150.374268</td>\n      <td>7.787668e-05</td>\n      <td>0.001622</td>\n      <td>32.361332</td>\n      <td>2.133392</td>\n      <td>67.212936</td>\n      <td>0.000938</td>\n      <td>0.127367</td>\n      <td>...</td>\n      <td>1.154114e-11</td>\n      <td>1.868019e-14</td>\n      <td>0.0</td>\n      <td>8.125634</td>\n      <td>0.000299</td>\n      <td>1.25</td>\n      <td>-66.0</td>\n      <td>1</td>\n      <td>9</td>\n      <td>winter</td>\n    </tr>\n    <tr>\n      <th>13</th>\n      <td>1.0</td>\n      <td>833220</td>\n      <td>2165.442871</td>\n      <td>5.970550e-04</td>\n      <td>0.011919</td>\n      <td>32.208023</td>\n      <td>2.123554</td>\n      <td>67.915428</td>\n      <td>0.000915</td>\n      <td>0.772793</td>\n      <td>...</td>\n      <td>3.899572e-09</td>\n      <td>7.348246e-12</td>\n      <td>0.0</td>\n      <td>8.131565</td>\n      <td>0.000296</td>\n      <td>1.25</td>\n      <td>-64.0</td>\n      <td>1</td>\n      <td>9</td>\n      <td>winter</td>\n    </tr>\n    <tr>\n      <th>14</th>\n      <td>1.0</td>\n      <td>833220</td>\n      <td>2172.339355</td>\n      <td>1.959288e-03</td>\n      <td>0.035316</td>\n      <td>31.784969</td>\n      <td>2.098763</td>\n      <td>68.678925</td>\n      <td>0.000880</td>\n      <td>2.110428</td>\n      <td>...</td>\n      <td>1.733191e-08</td>\n      <td>3.270573e-11</td>\n      <td>0.0</td>\n      <td>8.138751</td>\n      <td>0.000292</td>\n      <td>1.25</td>\n      <td>-62.0</td>\n      <td>1</td>\n      <td>9</td>\n      <td>winter</td>\n    </tr>\n    <tr>\n      <th>...</th>\n      <td>...</td>\n      <td>...</td>\n      <td>...</td>\n      <td>...</td>\n      <td>...</td>\n      <td>...</td>\n      <td>...</td>\n      <td>...</td>\n      <td>...</td>\n      <td>...</td>\n      <td>...</td>\n      <td>...</td>\n      <td>...</td>\n      <td>...</td>\n      <td>...</td>\n      <td>...</td>\n      <td>...</td>\n      <td>...</td>\n      <td>...</td>\n      <td>...</td>\n      <td>...</td>\n    </tr>\n    <tr>\n      <th>3434395</th>\n      <td>1.0</td>\n      <td>832320</td>\n      <td>1760.266113</td>\n      <td>7.981590e-04</td>\n      <td>0.013508</td>\n      <td>26.005625</td>\n      <td>0.843346</td>\n      <td>3.074813</td>\n      <td>0.001048</td>\n      <td>0.811644</td>\n      <td>...</td>\n      <td>2.345686e-10</td>\n      <td>7.043241e-12</td>\n      <td>0.0</td>\n      <td>8.116233</td>\n      <td>0.000251</td>\n      <td>358.75</td>\n      <td>80.0</td>\n      <td>1</td>\n      <td>4</td>\n      <td>winter</td>\n    </tr>\n    <tr>\n      <th>3434396</th>\n      <td>1.0</td>\n      <td>832320</td>\n      <td>1767.850952</td>\n      <td>2.707174e-04</td>\n      <td>0.005684</td>\n      <td>25.506079</td>\n      <td>0.869203</td>\n      <td>3.572733</td>\n      <td>0.001052</td>\n      <td>0.399762</td>\n      <td>...</td>\n      <td>2.959652e-11</td>\n      <td>1.112098e-12</td>\n      <td>0.0</td>\n      <td>8.114406</td>\n      <td>0.000253</td>\n      <td>358.75</td>\n      <td>82.0</td>\n      <td>1</td>\n      <td>4</td>\n      <td>winter</td>\n    </tr>\n    <tr>\n      <th>3434397</th>\n      <td>1.0</td>\n      <td>832320</td>\n      <td>1775.604248</td>\n      <td>8.718633e-05</td>\n      <td>0.001873</td>\n      <td>24.715918</td>\n      <td>0.906506</td>\n      <td>4.381703</td>\n      <td>0.001052</td>\n      <td>0.134918</td>\n      <td>...</td>\n      <td>4.039041e-12</td>\n      <td>1.513587e-13</td>\n      <td>0.0</td>\n      <td>8.113550</td>\n      <td>0.000255</td>\n      <td>358.75</td>\n      <td>84.0</td>\n      <td>1</td>\n      <td>4</td>\n      <td>winter</td>\n    </tr>\n    <tr>\n      <th>3434398</th>\n      <td>1.0</td>\n      <td>832320</td>\n      <td>1775.774902</td>\n      <td>7.570384e-06</td>\n      <td>0.000161</td>\n      <td>23.865545</td>\n      <td>0.944657</td>\n      <td>5.142447</td>\n      <td>0.001052</td>\n      <td>0.012236</td>\n      <td>...</td>\n      <td>0.000000e+00</td>\n      <td>0.000000e+00</td>\n      <td>0.0</td>\n      <td>8.117414</td>\n      <td>0.000253</td>\n      <td>358.75</td>\n      <td>86.0</td>\n      <td>1</td>\n      <td>4</td>\n      <td>winter</td>\n    </tr>\n    <tr>\n      <th>3434399</th>\n      <td>1.0</td>\n      <td>832320</td>\n      <td>1762.854736</td>\n      <td>5.704954e-07</td>\n      <td>0.000012</td>\n      <td>22.729925</td>\n      <td>0.992490</td>\n      <td>5.878727</td>\n      <td>0.001052</td>\n      <td>0.000944</td>\n      <td>...</td>\n      <td>0.000000e+00</td>\n      <td>0.000000e+00</td>\n      <td>0.0</td>\n      <td>8.119388</td>\n      <td>0.000251</td>\n      <td>358.75</td>\n      <td>88.5</td>\n      <td>1</td>\n      <td>4</td>\n      <td>winter</td>\n    </tr>\n  </tbody>\n</table>\n<p>2223085 rows × 83 columns</p>\n</div>"
     },
     "metadata": {},
     "execution_count": 136
    }
   ],
   "source": [
    "darwin_seasons_col(ecosys_interim)"
   ]
  },
  {
   "cell_type": "code",
   "execution_count": 130,
   "metadata": {},
   "outputs": [
    {
     "output_type": "execute_result",
     "data": {
      "text/plain": [
       "count     2223085\n",
       "unique          2\n",
       "top        winter\n",
       "freq      1852573\n",
       "Name: Season, dtype: object"
      ]
     },
     "metadata": {},
     "execution_count": 130
    }
   ],
   "source": [
    "ecosys_interim[\"Season\"].describe()"
   ]
  },
  {
   "cell_type": "code",
   "execution_count": null,
   "metadata": {},
   "outputs": [],
   "source": []
  }
 ]
}