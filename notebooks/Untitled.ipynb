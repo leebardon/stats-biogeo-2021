{
 "cells": [
  {
   "cell_type": "code",
   "execution_count": 3,
   "id": "03480555-2444-44f9-bcf8-60af5dc222d1",
   "metadata": {},
   "outputs": [
    {
     "name": "stdout",
     "output_type": "stream",
     "text": [
      "Collecting pygam\n",
      "  Downloading pygam-0.8.0-py2.py3-none-any.whl (1.8 MB)\n",
      "\u001b[K     |████████████████████████████████| 1.8 MB 3.6 MB/s eta 0:00:01\n",
      "\u001b[?25hCollecting future\n",
      "  Downloading future-0.18.2.tar.gz (829 kB)\n",
      "\u001b[K     |████████████████████████████████| 829 kB 6.4 MB/s eta 0:00:01\n",
      "\u001b[?25hRequirement already satisfied: numpy in /Users/leebardon/.pyenv/versions/3.9.2/lib/python3.9/site-packages (from pygam) (1.20.2)\n",
      "Collecting progressbar2\n",
      "  Downloading progressbar2-3.53.1-py2.py3-none-any.whl (25 kB)\n",
      "Collecting scipy\n",
      "  Downloading scipy-1.6.3-cp39-cp39-macosx_10_9_x86_64.whl (30.9 MB)\n",
      "\u001b[K     |████████████████████████████████| 30.9 MB 816 kB/s eta 0:00:01    |███████                         | 6.7 MB 7.2 MB/s eta 0:00:04     |███████████▊                    | 11.4 MB 7.2 MB/s eta 0:00:03     |██████████████▊                 | 14.2 MB 1.8 MB/s eta 0:00:10     |████████████████████            | 19.4 MB 4.4 MB/s eta 0:00:03     |█████████████████████▏          | 20.4 MB 4.4 MB/s eta 0:00:03\n",
      "\u001b[?25hRequirement already satisfied: six in /Users/leebardon/.pyenv/versions/3.9.2/lib/python3.9/site-packages (from progressbar2->pygam) (1.15.0)\n",
      "Collecting python-utils>=2.3.0\n",
      "  Downloading python_utils-2.5.6-py2.py3-none-any.whl (12 kB)\n",
      "Building wheels for collected packages: future\n",
      "  Building wheel for future (setup.py) ... \u001b[?25ldone\n",
      "\u001b[?25h  Created wheel for future: filename=future-0.18.2-py3-none-any.whl size=491059 sha256=1295f7212025f8cee3ea6406d556e2b098bb582ddb8db662a30d711803c55d8f\n",
      "  Stored in directory: /Users/leebardon/Library/Caches/pip/wheels/2f/a0/d3/4030d9f80e6b3be787f19fc911b8e7aa462986a40ab1e4bb94\n",
      "Successfully built future\n",
      "Installing collected packages: future, python-utils, progressbar2, scipy, pygam\n",
      "Successfully installed future-0.18.2 progressbar2-3.53.1 pygam-0.8.0 python-utils-2.5.6 scipy-1.6.3\n",
      "\u001b[33mWARNING: You are using pip version 20.2.3; however, version 21.1.1 is available.\n",
      "You should consider upgrading via the '/Users/leebardon/.pyenv/versions/3.9.2/bin/python3 -m pip install --upgrade pip' command.\u001b[0m\n"
     ]
    }
   ],
   "source": [
    "import sys\n",
    "!{sys.executable} -m pip install pygam"
   ]
  },
  {
   "cell_type": "code",
   "execution_count": 4,
   "id": "2dbb7561-b599-4772-b55f-72b9bb8881b9",
   "metadata": {},
   "outputs": [],
   "source": [
    "import matplotlib.pyplot as plt\n",
    "import pandas as pd\n",
    "import pickle\n",
    "from pygam import LinearGAM, s, f"
   ]
  },
  {
   "cell_type": "code",
   "execution_count": 6,
   "id": "b39f83de-d32f-4bf8-9162-87dab62c88dd",
   "metadata": {},
   "outputs": [],
   "source": [
    "import matplotlib.pyplot as plt\n",
    "\n",
    "def partial_dependency_plots(predictors, plankton_gams_dict, SAVE_PATH):\n",
    "    for group_name, gam in plankton_gams_dict.items():\n",
    "        plot_pdp(predictors, gam, group_name, SAVE_PATH)\n",
    "\n",
    "\n",
    "def plot_pdp(predictors, gam, group_name, SAVE_PATH):\n",
    "    y_label = \"Biomass ($\\mathregular{mmol\\ C/m^3}$)\"\n",
    "    title = \"Partial Dependency of Biomass to Predictors (1987-2008)\"\n",
    "    labels = [\n",
    "        \"$\\mathregular{NO_3}$\",\n",
    "        \"$\\mathregular{PO_4}$\",\n",
    "        \"Si\",\n",
    "        \"Fe\",\n",
    "        \"SSS\",\n",
    "        \"SST\",\n",
    "        \"PAR\",\n",
    "    ]\n",
    "    filename = f\"{group_name}_pdp.pdf\"\n",
    "    fig, axs = plt.subplots(1, 7, figsize=(18, 5))\n",
    "    fig.tight_layout(pad=3.4)\n",
    "\n",
    "    for i, ax in enumerate(axs):\n",
    "        XX = gam.generate_X_grid(term=i)\n",
    "        ax.plot(XX[:, i], gam.partial_dependence(term=i, X=XX))\n",
    "        ax.plot(\n",
    "            XX[:, i], gam.partial_dependence(term=i, X=XX, width=0.95)[1], c=\"r\", ls=\"-\"\n",
    "        )\n",
    "        if i == 0:\n",
    "            ax.set_ylabel(y_label, fontsize=12)\n",
    "        ax.set_xlabel(labels[i], fontsize=12)\n",
    "        plt.suptitle(title, fontsize=18, y=1.1)\n",
    "\n",
    "#         plt.savefig(\n",
    "#             f\"{SAVE_PATH}/{filename}\",\n",
    "#             format=\"pdf\",\n",
    "#             dpi=1200,\n",
    "#         )"
   ]
  },
  {
   "cell_type": "code",
   "execution_count": 7,
   "id": "5ea4b017-db41-45b1-abea-90ee861ca77e",
   "metadata": {},
   "outputs": [],
   "source": [
    "predictors = pd.read_pickle(\"/Users/leebardon/Development/stats_biogeo_2021/data/processed/training_sets/predictors/predictors_X_3586.pkl\")\n",
    "predictors_r = pd.read_pickle(\"/Users/leebardon/Development/stats_biogeo_2021/data/processed/training_sets/predictors/random_predictors_X_3586.pkl\")\n",
    "gams_dict = pd.read_pickle(\"/Users/leebardon/Development/stats_biogeo_2021/results/gams_output/fitted_models/from_measurements/gams_dict.pkl\")\n",
    "rand_gams_dict = pd.read_pickle(\"/Users/leebardon/Development/stats_biogeo_2021/results/gams_output/fitted_models/from_random/gams_r_dict.pkl\")"
   ]
  },
  {
   "cell_type": "code",
   "execution_count": 10,
   "id": "b55e7e89-899f-4aea-acdc-b1deac890581",
   "metadata": {},
   "outputs": [],
   "source": [
    "def get_plankton(path):\n",
    "    plankton_dict = {\n",
    "        \"proko\": pd.read_pickle(f\"{path}/proko.pkl\"),\n",
    "        \"pico\": pd.read_pickle(f\"{path}/pico.pkl\"),\n",
    "        \"cocco\": pd.read_pickle(f\"{path}/cocco.pkl\"),\n",
    "        \"diazo\": pd.read_pickle(f\"{path}/diazo.pkl\"),\n",
    "        \"diatom\": pd.read_pickle(f\"{path}/diatom.pkl\"),\n",
    "        \"dino\": pd.read_pickle(f\"{path}/dino.pkl\"),\n",
    "        \"zoo\": pd.read_pickle(f\"{path}/zoo.pkl\"),\n",
    "    }\n",
    "    return plankton_dict\n",
    "\n",
    "\n",
    "def get_predictors(path):\n",
    "    predictors = pd.read_pickle(f\"{path}/predictors_X_3586.pkl\")\n",
    "    predictors_random = pd.read_pickle(f\"{path}/random_predictors_X_3586.pkl\")\n",
    "    return predictors, predictors_random\n",
    "\n",
    "\n",
    "def set_min_vals(plankton):\n",
    "    for group_name, biomass in plankton.items():\n",
    "        biomass[biomass < 1.001e-5] = 1.001e-5\n",
    "    return plankton\n",
    "\n",
    "\n",
    "def fit_gams(plankton, predictors):\n",
    "    gams_dict = {}\n",
    "    for group_name, biomass in plankton.items():\n",
    "        gams_dict[f\"{group_name}\"] = LinearGAM().fit(predictors, biomass)\n",
    "    return gams_dict"
   ]
  }
 ],
 "metadata": {
  "kernelspec": {
   "display_name": "ML_Biogeo-5m91eM3f",
   "language": "python",
   "name": "ml_biogeo-5m91em3f"
  },
  "language_info": {
   "codemirror_mode": {
    "name": "ipython",
    "version": 3
   },
   "file_extension": ".py",
   "mimetype": "text/x-python",
   "name": "python",
   "nbconvert_exporter": "python",
   "pygments_lexer": "ipython3",
   "version": "3.9.2"
  }
 },
 "nbformat": 4,
 "nbformat_minor": 5
}
